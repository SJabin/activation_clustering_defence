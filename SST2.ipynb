{
 "cells": [
  {
   "cell_type": "code",
   "execution_count": 1,
   "id": "175b64fc-72da-459a-ad55-d946137268ce",
   "metadata": {},
   "outputs": [
    {
     "name": "stdout",
     "output_type": "stream",
     "text": [
      "No GPU available, using the CPU instead.\n",
      "loading dataset:\n",
      "Victim trains a neural network:\n"
     ]
    },
    {
     "name": "stderr",
     "output_type": "stream",
     "text": [
      "2022-10-17 00:04:44.963638: W tensorflow/stream_executor/platform/default/dso_loader.cc:59] Could not load dynamic library 'cudart64_101.dll'; dlerror: cudart64_101.dll not found\n",
      "2022-10-17 00:04:44.963687: I tensorflow/stream_executor/cuda/cudart_stub.cc:29] Ignore above cudart dlerror if you do not have a GPU set up on your machine.\n",
      "[INFO] loading configuration file C:/Users/Admin/Projects/saved_models/bert_base_uncased\\config.json\n",
      "[INFO] Model config {\n",
      "  \"architectures\": [\n",
      "    \"BertForMaskedLM\"\n",
      "  ],\n",
      "  \"attention_probs_dropout_prob\": 0.1,\n",
      "  \"finetuning_task\": null,\n",
      "  \"gradient_checkpointing\": false,\n",
      "  \"hidden_act\": \"gelu\",\n",
      "  \"hidden_dropout_prob\": 0.1,\n",
      "  \"hidden_size\": 768,\n",
      "  \"initializer_range\": 0.02,\n",
      "  \"intermediate_size\": 3072,\n",
      "  \"layer_norm_eps\": 1e-12,\n",
      "  \"max_position_embeddings\": 512,\n",
      "  \"model_type\": \"bert\",\n",
      "  \"num_attention_heads\": 12,\n",
      "  \"num_hidden_layers\": 12,\n",
      "  \"num_labels\": 2,\n",
      "  \"output_attentions\": false,\n",
      "  \"output_hidden_states\": true,\n",
      "  \"pad_token_id\": 0,\n",
      "  \"position_embedding_type\": \"absolute\",\n",
      "  \"pruned_heads\": {},\n",
      "  \"torchscript\": false,\n",
      "  \"transformers_version\": \"4.6.0.dev0\",\n",
      "  \"type_vocab_size\": 2,\n",
      "  \"use_cache\": true,\n",
      "  \"vocab_size\": 30522\n",
      "}\n",
      "\n",
      "[INFO] loading weights file C:/Users/Admin/Projects/saved_models/bert_base_uncased\\pytorch_model.bin\n",
      "[INFO] Model name 'C:/Users/Admin/Projects/saved_models/bert_base_uncased' not found in model shortcut name list (bert-base-uncased, bert-large-uncased, bert-base-cased, bert-large-cased, bert-base-multilingual-uncased, bert-base-multilingual-cased, bert-base-chinese, bert-base-german-cased, bert-large-uncased-whole-word-masking, bert-large-cased-whole-word-masking, bert-large-uncased-whole-word-masking-finetuned-squad, bert-large-cased-whole-word-masking-finetuned-squad, bert-base-cased-finetuned-mrpc). Assuming 'C:/Users/Admin/Projects/saved_models/bert_base_uncased' is a path or url to a directory containing tokenizer files.\n",
      "[INFO] Didn't find file C:/Users/Admin/Projects/saved_models/bert_base_uncased\\added_tokens.json. We won't load it.\n",
      "[INFO] Didn't find file C:/Users/Admin/Projects/saved_models/bert_base_uncased\\special_tokens_map.json. We won't load it.\n",
      "[INFO] loading file C:/Users/Admin/Projects/saved_models/bert_base_uncased\\vocab.txt\n",
      "[INFO] loading file None\n",
      "[INFO] loading file None\n",
      "[INFO] loading file C:/Users/Admin/Projects/saved_models/bert_base_uncased\\tokenizer_config.json\n",
      "Traceback (most recent call last):\n",
      "  File \"poison_defense_activation_clustering.py\", line 285, in <module>\n",
      "    main()\n",
      "  File \"poison_defense_activation_clustering.py\", line 178, in main\n",
      "    _, train_loss = train(args, x_clean, y_clean, model, tokenizer)\n",
      "  File \"C:\\Users\\Admin\\Projects\\adversarial_robustness\\activation clustering\\model.py\", line 79, in train\n",
      "    train_sampler = RandomSampler(train_dataset)\n",
      "NameError: name 'RandomSampler' is not defined\n"
     ]
    }
   ],
   "source": [
    "!python poison_defense_activation_clustering.py --model_name_or_path \"C:/Users/Admin/Projects/saved_models/bert_base_uncased\" --data_path \"C:/Users/Admin/Projects/datasets/sst2\" --save_model_path \"./results\" --poison_rate .5"
   ]
  },
  {
   "cell_type": "code",
   "execution_count": null,
   "id": "507ab73f-3241-4363-b249-7cf09f4078e5",
   "metadata": {},
   "outputs": [],
   "source": []
  }
 ],
 "metadata": {
  "kernelspec": {
   "display_name": "Python 3 (ipykernel)",
   "language": "python",
   "name": "python3"
  },
  "language_info": {
   "codemirror_mode": {
    "name": "ipython",
    "version": 3
   },
   "file_extension": ".py",
   "mimetype": "text/x-python",
   "name": "python",
   "nbconvert_exporter": "python",
   "pygments_lexer": "ipython3",
   "version": "3.7.13"
  }
 },
 "nbformat": 4,
 "nbformat_minor": 5
}
